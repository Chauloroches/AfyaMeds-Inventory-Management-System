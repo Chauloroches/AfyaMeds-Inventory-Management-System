{
 "cells": [
  {
   "cell_type": "code",
   "execution_count": 5,
   "id": "55ea82eb-6578-44e8-97fd-b3d635375ebc",
   "metadata": {},
   "outputs": [
    {
     "name": "stdout",
     "output_type": "stream",
     "text": [
      "Requirement already satisfied: mysql-connector-python in c:\\users\\roches\\appdata\\roaming\\python\\python312\\site-packages (9.2.0)\n"
     ]
    }
   ],
   "source": [
    "# Installing mysql_connector package\n",
    "!pip install mysql-connector-python"
   ]
  },
  {
   "cell_type": "code",
   "execution_count": 6,
   "id": "5b8f2c48-28a1-47de-9a05-764ed7e56dd1",
   "metadata": {},
   "outputs": [
    {
     "name": "stdout",
     "output_type": "stream",
     "text": [
      "Requirement already satisfied: faker in c:\\users\\roches\\anaconda3\\lib\\site-packages (37.0.0)\n",
      "Requirement already satisfied: tzdata in c:\\users\\roches\\appdata\\roaming\\python\\python312\\site-packages (from faker) (2024.1)\n"
     ]
    }
   ],
   "source": [
    "!pip install faker"
   ]
  },
  {
   "cell_type": "code",
   "execution_count": 1,
   "id": "8deee07b-68b0-42bb-8953-513cd83b4bd0",
   "metadata": {},
   "outputs": [
    {
     "name": "stdout",
     "output_type": "stream",
     "text": [
      "Dataset generated successfully!\n"
     ]
    }
   ],
   "source": [
    "import mysql.connector\n",
    "from faker import Faker\n",
    "import random\n",
    "from datetime import datetime, timedelta\n",
    "\n",
    "# Initialize Faker\n",
    "fake = Faker()\n",
    "\n",
    "# Ensures reproducibility\n",
    "Faker.seed(42)\n",
    "\n",
    "# Connect to MySQL\n",
    "try:\n",
    "    mydb = mysql.connector.connect(\n",
    "        host=\"localhost\",\n",
    "        user=\"root\",\n",
    "        password=\"8510\",\n",
    "        database=\"afya_db\"\n",
    "    )\n",
    "    cursor = mydb.cursor()\n",
    "    print('Connected to afya_db')\n",
    "except mysql.connector.Error as err:\n",
    "    print(f'Database connection failed: {err}')\n",
    "    exit()\n",
    "\n",
    "# Insert Supplies\n",
    "supplies = [\n",
    "    (\"N95 Mask\", \"PPE\", 2.50), (\"Gloves\", \"PPE\", 0.50), (\"Syringe 5ml\", \"Tools\", 0.30),\n",
    "    (\"Paracetamol\", \"Medication\", 0.10), (\"Antibiotic X\", \"Medication\", 15.00),\n",
    "    (\"Malaria Test Kit\", \"Tools\", 3.00), (\"Vaccine A\", \"Vaccines\", 25.00),\n",
    "    (\"Bandages\", \"PPE\", 1.20), (\"IV Fluid\", \"Medication\", 5.00), (\"Thermometer\", \"Tools\", 10.00),\n",
    "    (\"Face Shield\", \"PPE\", 3.50), (\"Ibuprofen\", \"Medication\", 0.15), (\"Syringe 10ml\", \"Tools\", 0.40),\n",
    "    (\"Vaccine B\", \"Vaccines\", 30.00), (\"Alcohol Swabs\", \"PPE\", 0.05), (\"Antiseptic\", \"Medication\", 4.00),\n",
    "    (\"Stethoscope\", \"Tools\", 20.00), (\"Gauze\", \"PPE\", 0.80), (\"Vitamin C\", \"Medication\", 0.20),\n",
    "    (\"Vaccine C\", \"Vaccines\", 22.00)\n",
    "]\n",
    "\n",
    "try:\n",
    "    for name, cat, cost in supplies:\n",
    "        cursor.execute(\"INSERT INTO supplies (supply_name, category, unit_cost) VALUES (%s, %s, %s)\", (name, cat, cost))\n",
    "    print('Supplies inserted successfully')\n",
    "except Exception as e:\n",
    "    print(f'Failed to insert supplies: {e}')\n",
    "\n",
    "# Insert Clinics\n",
    "kenyan_regions = [\"Nairobi\", \"Mombasa\", \"Kisumu\", \"Eldoret\", \"Nakuru\", \"Thika\", \"Machakos\", \"Nyeri\", \"Meru\", \"Kericho\"]\n",
    "clinic_suffixes = [\"Medical Centre\", \"Health Clinic\", \"Wellness Hospital\", \"Community Health Centre\"]\n",
    "\n",
    "try:\n",
    "    for _ in range(50):\n",
    "        clinic_name = f\"{fake.first_name()} {random.choice(clinic_suffixes)}\"\n",
    "        region = random.choice(kenyan_regions)\n",
    "        cursor.execute(\"INSERT INTO clinics (clinic_name, region) VALUES (%s, %s)\", (clinic_name, region))\n",
    "    print('Clinics inserted successfully')\n",
    "except Exception as e:\n",
    "    print(f'Failed to insert clinics: {e}')\n",
    "\n",
    "# Insert Inventory\n",
    "try:\n",
    "    for _ in range(5000):\n",
    "        supply_id = random.randint(1, 20)\n",
    "        clinic_id = random.randint(1, 50)\n",
    "        quantity = random.randint(0, 600)\n",
    "        expiry = datetime.now() + timedelta(days=random.randint(1, 730))\n",
    "        cursor.execute(\n",
    "            \"INSERT INTO Inventory (supply_id, clinic_id, quantity, expiration_date) VALUES (%s, %s, %s, %s)\",\n",
    "            (supply_id, clinic_id, quantity, expiry.strftime('%Y-%m-%d'))\n",
    "        )\n",
    "    print('Inventory inserted successfully')\n",
    "except Exception as e:\n",
    "    print(f'Failed to insert inventory: {e}')\n",
    "\n",
    "# Insert Orders\n",
    "try:\n",
    "    for _ in range(5000):\n",
    "        supply_id = random.randint(1, 20)\n",
    "        clinic_id = random.randint(1, 50)\n",
    "        quantity = random.randint(10, 200)\n",
    "        order_date = datetime.now() - timedelta(days=random.randint(0, 180))\n",
    "        status = random.choice([\"Pending\", \"Shipped\", \"Delivered\"])\n",
    "        cursor.execute(\n",
    "            \"INSERT INTO Orders (supply_id, clinic_id, quantity_ordered, order_date, status) VALUES (%s, %s, %s, %s, %s)\",\n",
    "            (supply_id, clinic_id, quantity, order_date.strftime('%Y-%m-%d'), status)\n",
    "        )\n",
    "    print('Orders inserted successfully')\n",
    "except Exception as e:\n",
    "    print(f'Failed to insert orders: {e}')\n",
    "\n",
    "# Commit changes\n",
    "try:\n",
    "    mydb.commit()\n",
    "    print(\"All data committed successfully!\")\n",
    "except Exception as e:\n",
    "    print(f\"Commit failed: {e}\")\n",
    "finally:\n",
    "    cursor.close()\n",
    "    mydb.close()\n",
    "    print(\"Database connection closed.\")"
   ]
  },
  {
   "cell_type": "code",
   "execution_count": null,
   "id": "4fd8ab87-78a0-40f7-9ed6-6ec5f27c2105",
   "metadata": {},
   "outputs": [],
   "source": []
  }
 ],
 "metadata": {
  "kernelspec": {
   "display_name": "Python 3 (ipykernel)",
   "language": "python",
   "name": "python3"
  },
  "language_info": {
   "codemirror_mode": {
    "name": "ipython",
    "version": 3
   },
   "file_extension": ".py",
   "mimetype": "text/x-python",
   "name": "python",
   "nbconvert_exporter": "python",
   "pygments_lexer": "ipython3",
   "version": "3.12.4"
  }
 },
 "nbformat": 4,
 "nbformat_minor": 5
}
