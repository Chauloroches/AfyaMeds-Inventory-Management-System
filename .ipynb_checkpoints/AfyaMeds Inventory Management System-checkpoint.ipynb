{
 "cells": [
  {
   "cell_type": "code",
   "execution_count": 7,
   "id": "55ea82eb-6578-44e8-97fd-b3d635375ebc",
   "metadata": {},
   "outputs": [
    {
     "name": "stdout",
     "output_type": "stream",
     "text": [
      "Requirement already satisfied: mysql-connector-python in c:\\users\\roches\\anaconda3\\lib\\site-packages (9.2.0)\n"
     ]
    }
   ],
   "source": [
    "# Installing mysql_connector package\n",
    "!pip install mysql-connector-python"
   ]
  },
  {
   "cell_type": "code",
   "execution_count": 37,
   "id": "5b8f2c48-28a1-47de-9a05-764ed7e56dd1",
   "metadata": {},
   "outputs": [
    {
     "name": "stdout",
     "output_type": "stream",
     "text": [
      "Requirement already satisfied: faker in c:\\users\\roches\\anaconda3\\lib\\site-packages (37.0.0)\n",
      "Requirement already satisfied: tzdata in c:\\users\\roches\\appdata\\roaming\\python\\python312\\site-packages (from faker) (2024.1)\n"
     ]
    }
   ],
   "source": [
    "!pip install faker"
   ]
  },
  {
   "cell_type": "code",
   "execution_count": 1,
   "id": "3b33e94b-33a7-4f74-9611-d007ee78c64b",
   "metadata": {},
   "outputs": [
    {
     "name": "stdout",
     "output_type": "stream",
     "text": [
      "Dataset generated successfully!\n"
     ]
    }
   ],
   "source": [
    "# Import all the necessary Libraries\n",
    "import mysql.connector\n",
    "from faker import Faker\n",
    "import random\n",
    "from datetime import datetime, timedelta\n",
    "\n",
    "# Initialize Faker\n",
    "fake = Faker()\n",
    "\n",
    "# Ensures reproducibility\n",
    "Faker.seed(42)\n",
    "\n",
    "# Connect to MySQL \n",
    "mydb = mysql.connector.connect(\n",
    "    host=\"localhost\",\n",
    "    user=\"root\",\n",
    "    password=\"8510\",\n",
    "    database=\"afya_db\"\n",
    ")\n",
    "cursor = mydb.cursor()\n",
    "\n",
    "# Clear existing data\n",
    "# cursor.execute(\"TRUNCATE TABLE Orders\")\n",
    "# cursor.execute(\"TRUNCATE TABLE Inventory\")\n",
    "# cursor.execute(\"TRUNCATE TABLE Clinics\")\n",
    "# cursor.execute(\"TRUNCATE TABLE Supplies\")\n",
    "\n",
    "# Generate Supplies (20 unique supplies)\n",
    "supplies = [\n",
    "    (\"N95 Mask\", \"PPE\", 2.50), (\"Gloves\", \"PPE\", 0.50), (\"Syringe 5ml\", \"Tools\", 0.30),\n",
    "    (\"Paracetamol\", \"Medication\", 0.10), (\"Antibiotic X\", \"Medication\", 15.00),\n",
    "    (\"Malaria Test Kit\", \"Tools\", 3.00), (\"Vaccine A\", \"Vaccines\", 25.00),\n",
    "    (\"Bandages\", \"PPE\", 1.20), (\"IV Fluid\", \"Medication\", 5.00), (\"Thermometer\", \"Tools\", 10.00),\n",
    "    (\"Face Shield\", \"PPE\", 3.50), (\"Ibuprofen\", \"Medication\", 0.15), (\"Syringe 10ml\", \"Tools\", 0.40),\n",
    "    (\"Vaccine B\", \"Vaccines\", 30.00), (\"Alcohol Swabs\", \"PPE\", 0.05), (\"Antiseptic\", \"Medication\", 4.00),\n",
    "    (\"Stethoscope\", \"Tools\", 20.00), (\"Gauze\", \"PPE\", 0.80), (\"Vitamin C\", \"Medication\", 0.20),\n",
    "    (\"Vaccine C\", \"Vaccines\", 22.00)\n",
    "]\n",
    "for name, cat, cost in supplies:\n",
    "    cursor.execute(\"INSERT INTO supplies (supply_name, category, unit_cost) VALUES(%s, %s,%s)\", (name, cat, cost))\n",
    "\n",
    "# List of Kenyan regions\n",
    "kenyan_regions = [\"Nairobi\", \"Mombasa\", \"Kisumu\", \"Eldoret\", \"Nakuru\", \"Thika\", \"Machakos\", \"Nyeri\", \"Meru\", \"Kericho\"]\n",
    "\n",
    "# List of common Kenyan clinic suffixes\n",
    "clinic_suffixes = [\"Medical Centre\", \"Health Clinic\", \"Wellness Hospital\", \"Community Health Centre\"]\n",
    "\n",
    "# Generate Clinics (50 clinics with Kenyan names)\n",
    "for _ in range(50):\n",
    "    kenyan_name = fake.first_name()  # Generate a local-sounding first name\n",
    "    suffix = random.choice(clinic_suffixes)  # Randomly select a suffix\n",
    "    clinic_name = f\"{kenyan_name} {suffix}\"  # Combine name and suffix\n",
    "    region = random.choice(kenyan_regions)  # Choose a region from the predefined list\n",
    "    cursor.execute(\"INSERT INTO clinics(clinic_name, region) VALUES(%s, %s)\", (clinic_name, region))\n",
    "\n",
    "# Generate Inventory (5,000 rows)\n",
    "for _ in range(5000):\n",
    "    supply_id = random.randint(1, 20)\n",
    "    clinic_id = random.randint(1, 50)\n",
    "    quantity = random.randint(0, 600)\n",
    "    expiry = datetime.now() + timedelta(days=random.randint(-30, 730))  # -1 month to +2 years\n",
    "    cursor.execute(\n",
    "        \"INSERT INTO Inventory (supply_id, clinic_id, quantity, expiration_date) VALUES (%s, %s, %s, %s)\",\n",
    "        (supply_id, clinic_id, quantity, expiry.strftime('%Y-%m-%d'))\n",
    "    )\n",
    "\n",
    "# Populate Orders (5,000 rows)\n",
    "for _ in range(5000):\n",
    "    supply_id = random.randint(1, 20)\n",
    "    clinic_id = random.randint(1, 50)\n",
    "    quantity = random.randint(10, 200)\n",
    "    order_date = datetime.now() - timedelta(days=random.randint(0, 180))  # Last 6 months\n",
    "    status = random.choice([\"Pending\", \"Shipped\", \"Delivered\"])\n",
    "    cursor.execute(\n",
    "        \"INSERT INTO Orders (supply_id, clinic_id, quantity_ordered, order_date, status) VALUES (%s, %s, %s, %s, %s)\",\n",
    "        (supply_id, clinic_id, quantity, order_date.strftime('%Y-%m-%d'), status)\n",
    "    )\n",
    "\n",
    "# Commit changes\n",
    "mydb.commit()\n",
    "print(\"Dataset generated successfully!\")\n",
    "cursor.close()\n",
    "mydb.close()\n"
   ]
  },
  {
   "cell_type": "code",
   "execution_count": 9,
   "id": "9b0308c0-20b3-483e-b3b1-4c28e2169914",
   "metadata": {},
   "outputs": [
    {
     "data": {
      "text/plain": [
       "datetime.datetime(2025, 3, 18, 15, 11, 54, 774405)"
      ]
     },
     "execution_count": 9,
     "metadata": {},
     "output_type": "execute_result"
    }
   ],
   "source": []
  },
  {
   "cell_type": "code",
   "execution_count": null,
   "id": "8deee07b-68b0-42bb-8953-513cd83b4bd0",
   "metadata": {},
   "outputs": [],
   "source": []
  },
  {
   "cell_type": "code",
   "execution_count": null,
   "id": "4fd8ab87-78a0-40f7-9ed6-6ec5f27c2105",
   "metadata": {},
   "outputs": [],
   "source": []
  }
 ],
 "metadata": {
  "kernelspec": {
   "display_name": "Python 3 (ipykernel)",
   "language": "python",
   "name": "python3"
  },
  "language_info": {
   "codemirror_mode": {
    "name": "ipython",
    "version": 3
   },
   "file_extension": ".py",
   "mimetype": "text/x-python",
   "name": "python",
   "nbconvert_exporter": "python",
   "pygments_lexer": "ipython3",
   "version": "3.12.4"
  }
 },
 "nbformat": 4,
 "nbformat_minor": 5
}
